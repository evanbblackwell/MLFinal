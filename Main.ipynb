{
 "cells": [
  {
   "cell_type": "code",
   "execution_count": 30,
   "metadata": {},
   "outputs": [
    {
     "name": "stdout",
     "output_type": "stream",
     "text": [
      "        rollnumber  icpsr  cast_code\n",
      "0                1  10713         -1\n",
      "1                1  14066          1\n",
      "2                1  14263         -1\n",
      "3                1  14657          1\n",
      "4                1  14854          1\n",
      "5                1  14863          1\n",
      "6                1  14873         -1\n",
      "7                1  15019         -1\n",
      "8                1  15029         -1\n",
      "9                1  15033         -1\n",
      "10               1  15085          1\n",
      "11               1  15124         -1\n",
      "12               1  15410         -1\n",
      "13               1  15431         -1\n",
      "14               1  15438         -1\n",
      "15               1  15444         -1\n",
      "16               1  15445          1\n",
      "17               1  15446          1\n",
      "18               1  15448         -1\n",
      "19               1  15454         -1\n",
      "20               1  15455          1\n",
      "21               1  15603         -1\n",
      "22               1  15612         -1\n",
      "23               1  15616         -1\n",
      "24               1  15621          1\n",
      "25               1  15634          1\n",
      "26               1  20104         -1\n",
      "27               1  20107          1\n",
      "28               1  20108         -1\n",
      "29               1  20119         -1\n",
      "...            ...    ...        ...\n",
      "519699        1207  29707          1\n",
      "519700        1207  29710          1\n",
      "519701        1207  29717          1\n",
      "519702        1207  29718          1\n",
      "519703        1207  29729          1\n",
      "519704        1207  29741          1\n",
      "519705        1207  29759          1\n",
      "519706        1207  29760          0\n",
      "519707        1207  29762          1\n",
      "519708        1207  29768          1\n",
      "519709        1207  29769          0\n",
      "519710        1207  29776          1\n",
      "519711        1207  29777          0\n",
      "519712        1207  29778          1\n",
      "519713        1207  29901          1\n",
      "519714        1207  29903          1\n",
      "519715        1207  29908          0\n",
      "519716        1207  29910          1\n",
      "519717        1207  29911          1\n",
      "519718        1207  29919          0\n",
      "519719        1207  29925          0\n",
      "519720        1207  29932          1\n",
      "519721        1207  31101          1\n",
      "519722        1207  31102         -1\n",
      "519723        1207  31103          1\n",
      "519724        1207  39301          1\n",
      "519725        1207  39304          0\n",
      "519726        1207  39305          0\n",
      "519727        1207  39307          1\n",
      "519728        1207  39308          1\n",
      "\n",
      "[519729 rows x 3 columns]\n"
     ]
    }
   ],
   "source": [
    "import pandas as pd\n",
    "\n",
    "votes = pd.read_csv('h115votes.csv') #votes is the dataframe we'll be workinging with\n",
    "castCode = []\n",
    "for line in votes.cast_code:\n",
    "    if line >= 7:\n",
    "        castCode.append(0)\n",
    "    elif line > 3:\n",
    "        castCode.append(-1)\n",
    "    else:\n",
    "        castCode.append(1)\n",
    "        \n",
    "votes.cast_code = castCode\n",
    "\n",
    "# print(votes)\n",
    "\n",
    "# the 'votes' object contains the columns 'rollnumber', 'icpsr', and 'cast_code'\n",
    "# to access these colums use 'votes.castcode'"
   ]
  },
  {
   "cell_type": "code",
   "execution_count": 28,
   "metadata": {
    "scrolled": true
   },
   "outputs": [],
   "source": [
    "# import sqlite3\n",
    "\n",
    "# conn = sqlite3.connect('Votes.db')\n",
    "# c = conn.cursor() \n",
    "\n",
    "# read_votes = pd.read_csv ('h115votes.csv')\n",
    "# read_clients.to_sql('VOTES', conn, if_exists='append', index = False) # Insert the values from the csv file into the table 'CLIENTS' \n"
   ]
  },
  {
   "cell_type": "code",
   "execution_count": null,
   "metadata": {},
   "outputs": [],
   "source": []
  }
 ],
 "metadata": {
  "kernelspec": {
   "display_name": "Python 3",
   "language": "python",
   "name": "python3"
  },
  "language_info": {
   "codemirror_mode": {
    "name": "ipython",
    "version": 3
   },
   "file_extension": ".py",
   "mimetype": "text/x-python",
   "name": "python",
   "nbconvert_exporter": "python",
   "pygments_lexer": "ipython3",
   "version": "3.7.3"
  }
 },
 "nbformat": 4,
 "nbformat_minor": 2
}
